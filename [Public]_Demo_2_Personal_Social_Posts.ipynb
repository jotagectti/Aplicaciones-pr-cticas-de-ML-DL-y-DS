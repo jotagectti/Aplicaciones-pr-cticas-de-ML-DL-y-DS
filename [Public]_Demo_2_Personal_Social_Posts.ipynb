{
  "cells": [
    {
      "cell_type": "markdown",
      "metadata": {
        "id": "view-in-github",
        "colab_type": "text"
      },
      "source": [
        "<a href=\"https://colab.research.google.com/github/jotagectti/Aplicaciones-pr-cticas-de-ML-DL-y-DS/blob/main/%5BPublic%5D_Demo_2_Personal_Social_Posts.ipynb\" target=\"_parent\"><img src=\"https://colab.research.google.com/assets/colab-badge.svg\" alt=\"Open In Colab\"/></a>"
      ]
    },
    {
      "cell_type": "markdown",
      "metadata": {
        "id": "E6rjRQDH93cP"
      },
      "source": [
        "# Workshop: Do it yourself!\n",
        "\n",
        "**During this lab you will**:\n",
        "\n",
        "- Run a sentiment classifier on your personal social media data (or a pre-defined set of posts if you prefer)."
      ]
    },
    {
      "cell_type": "code",
      "execution_count": null,
      "metadata": {
        "id": "Uk2nO0C5CzTv"
      },
      "outputs": [],
      "source": [
        "!pip install transformers"
      ]
    },
    {
      "cell_type": "code",
      "source": [
        "# https://huggingface.co/bhadresh-savani/bert-base-uncased-emotion\n",
        "\n",
        "from transformers import pipeline\n",
        "from pprint import pprint\n",
        "import pandas as pd\n",
        "\n",
        "def viz_predictions(texts):\n",
        "    predictions = classifier(texts)\n",
        "    data = [] \n",
        "    for text, pred in zip(texts, predictions):\n",
        "        local_d = {'text': text}\n",
        "        for pair in pred:\n",
        "            local_d[pair['label']] = pair['score']\n",
        "        data.append(local_d)\n",
        "    return pd.DataFrame(data).style.background_gradient(cmap='Blues', axis=1)\n",
        "\n",
        "classifier = pipeline(\"text-classification\", model='bhadresh-savani/bert-base-uncased-emotion', return_all_scores=True)"
      ],
      "metadata": {
        "id": "pNe3AMw0D5II"
      },
      "execution_count": null,
      "outputs": []
    },
    {
      "cell_type": "code",
      "source": [
        "prediction = classifier(\"I love using transformers. The best part is wide range of support and its easy to use\", )\n",
        "pprint(prediction)"
      ],
      "metadata": {
        "id": "hJsnM1_LEAKO"
      },
      "execution_count": null,
      "outputs": []
    },
    {
      "cell_type": "code",
      "source": [
        "MIT_Confessions_posts = [\n",
        "    \"#64945 Give me the unearned confidence of men asking me out after I told them who I had a crush on to their face\",\n",
        "    \"#64944 I saw you for the first time in the Infinite. You were walking in front of me and I couldn’t take my eyes off the back of your head. You were on your phone. You were walking slow. You were…infuriating.\",\n",
        "    \"#64943 Gotta say I never expected the “she’s cheer captain and I’m on the bleachers” thing to follow me into college, but god damn I never stood a chance against her, did I? Excuse me while I scroll through her instagram and hate myself \",\n",
        "    \"#64942 how do the gym men grow boobies like that??? hgghhh ??? and where does this man find the time because i know for sure he's in like 2 hard grad classes ?????\",\n",
        "    \"#64941 Those brownies and good vibes in lobby 10 really were the highlight of my day\",\n",
        "    \"\"\"#64940 Prof: The degeneracy of the global minima is much higher than the degeneracy of the other critical points.\n",
        "    Me: MIT has brought me to my global minimum\"\"\",\n",
        "    \"#64939 I miss handing in a physical pset. The dried tears just don't show up as well on these scanned submissions.\",\n",
        "    \"#64938 What's the utility function for having fun? I gather the more foolish I am the more costly and more fun it would be. Please note that costs diminish over time due to people caring less as time increases. With this logic, I can have inf fun and be an asshole indefinitely, I could have small fun from week to week, or I could be the most saintly person ever and judge everyone else at the cost of never living. Work is a constant tho\"\n",
        "]"
      ],
      "metadata": {
        "id": "msmsmvnxED8o"
      },
      "execution_count": null,
      "outputs": []
    },
    {
      "cell_type": "code",
      "source": [
        "viz_predictions(MIT_Confessions_posts)"
      ],
      "metadata": {
        "id": "MwzRtwyGFNIN"
      },
      "execution_count": null,
      "outputs": []
    },
    {
      "cell_type": "code",
      "source": [
        "your_posts = [\n",
        "    \"my happy post\",\n",
        "    \"my sad post\",\n",
        "    \"what am i supposed to add here?\"\n",
        "]\n",
        "viz_predictions(your_posts)"
      ],
      "metadata": {
        "id": "31Nv_CsvGuiF"
      },
      "execution_count": null,
      "outputs": []
    },
    {
      "cell_type": "code",
      "source": [],
      "metadata": {
        "id": "wzvVhDL5h2FS"
      },
      "execution_count": null,
      "outputs": []
    }
  ],
  "metadata": {
    "colab": {
      "provenance": [],
      "include_colab_link": true
    },
    "kernelspec": {
      "display_name": "Python 3",
      "name": "python3"
    },
    "language_info": {
      "name": "python"
    },
    "accelerator": "GPU"
  },
  "nbformat": 4,
  "nbformat_minor": 0
}